{
  "cells": [
    {
      "cell_type": "markdown",
      "metadata": {
        "id": "view-in-github",
        "colab_type": "text"
      },
      "source": [
        "<a href=\"https://colab.research.google.com/github/rohinikhanderay/Numpy-Tutorial/blob/main/Numpy_Notebook.ipynb\" target=\"_parent\"><img src=\"https://colab.research.google.com/assets/colab-badge.svg\" alt=\"Open In Colab\"/></a>"
      ]
    },
    {
      "cell_type": "markdown",
      "metadata": {
        "id": "8836f008"
      },
      "source": [
        "# numpy package is referred as np"
      ],
      "id": "8836f008"
    },
    {
      "cell_type": "code",
      "execution_count": null,
      "metadata": {
        "id": "7ee5a0e0"
      },
      "outputs": [],
      "source": [
        "import numpy as np"
      ],
      "id": "7ee5a0e0"
    },
    {
      "cell_type": "code",
      "execution_count": null,
      "metadata": {
        "id": "7a0071cc"
      },
      "outputs": [],
      "source": [
        "ar=np.array([27,24,100,25])"
      ],
      "id": "7a0071cc"
    },
    {
      "cell_type": "code",
      "execution_count": null,
      "metadata": {
        "colab": {
          "base_uri": "https://localhost:8080/"
        },
        "id": "626fcb06",
        "outputId": "a9b86f0f-346f-41ad-ecf2-819c99d6c727"
      },
      "outputs": [
        {
          "output_type": "stream",
          "name": "stdout",
          "text": [
            "[ 27  24 100  25]\n"
          ]
        }
      ],
      "source": [
        "print(ar)"
      ],
      "id": "626fcb06"
    },
    {
      "cell_type": "code",
      "execution_count": null,
      "metadata": {
        "colab": {
          "base_uri": "https://localhost:8080/"
        },
        "id": "f9f2db59",
        "outputId": "56648011-962b-4768-e0a0-cc7534c2f202"
      },
      "outputs": [
        {
          "output_type": "stream",
          "name": "stdout",
          "text": [
            "<class 'numpy.ndarray'>\n"
          ]
        }
      ],
      "source": [
        "print(type(ar))"
      ],
      "id": "f9f2db59"
    },
    {
      "cell_type": "markdown",
      "metadata": {
        "id": "2d943a2f"
      },
      "source": [
        "# create 0s and 1s matrix"
      ],
      "id": "2d943a2f"
    },
    {
      "cell_type": "code",
      "execution_count": null,
      "metadata": {
        "colab": {
          "base_uri": "https://localhost:8080/"
        },
        "id": "07a09d54",
        "outputId": "f91db1b2-0d59-42d4-e004-81a8a505970d"
      },
      "outputs": [
        {
          "output_type": "execute_result",
          "data": {
            "text/plain": [
              "array([1., 1., 1., 1., 1.])"
            ]
          },
          "metadata": {},
          "execution_count": 5
        }
      ],
      "source": [
        "np.ones(5)             # 1s array is bydefault float type"
      ],
      "id": "07a09d54"
    },
    {
      "cell_type": "code",
      "execution_count": null,
      "metadata": {
        "colab": {
          "base_uri": "https://localhost:8080/"
        },
        "id": "c4c572c9",
        "outputId": "2192fba2-5081-4430-f6f5-34e35fcc0c40"
      },
      "outputs": [
        {
          "output_type": "execute_result",
          "data": {
            "text/plain": [
              "array([[1., 1., 1., 1., 1.],\n",
              "       [1., 1., 1., 1., 1.],\n",
              "       [1., 1., 1., 1., 1.]])"
            ]
          },
          "metadata": {},
          "execution_count": 6
        }
      ],
      "source": [
        "np.ones((3,5))  # create 1s matrix of 3 rows and 5 columns"
      ],
      "id": "c4c572c9"
    },
    {
      "cell_type": "markdown",
      "metadata": {
        "id": "c327fe21"
      },
      "source": [
        "# convert data type of array"
      ],
      "id": "c327fe21"
    },
    {
      "cell_type": "code",
      "execution_count": null,
      "metadata": {
        "colab": {
          "base_uri": "https://localhost:8080/"
        },
        "id": "98593117",
        "outputId": "0285f983-4a0b-4cda-c8e1-81ae2638a822"
      },
      "outputs": [
        {
          "output_type": "execute_result",
          "data": {
            "text/plain": [
              "array([0., 0., 0., 0., 0., 0.])"
            ]
          },
          "metadata": {},
          "execution_count": 7
        }
      ],
      "source": [
        "np.zeros(6)"
      ],
      "id": "98593117"
    },
    {
      "cell_type": "code",
      "execution_count": null,
      "metadata": {
        "id": "0c9773b6"
      },
      "outputs": [],
      "source": [
        "x=np.zeros(6,dtype=str)"
      ],
      "id": "0c9773b6"
    },
    {
      "cell_type": "code",
      "execution_count": null,
      "metadata": {
        "colab": {
          "base_uri": "https://localhost:8080/"
        },
        "id": "b6c39abc",
        "outputId": "2d650c73-2e58-469d-bb88-b9e8fd551e5f",
        "scrolled": true
      },
      "outputs": [
        {
          "output_type": "execute_result",
          "data": {
            "text/plain": [
              "array(['', '', '', '', '', ''], dtype='<U1')"
            ]
          },
          "metadata": {},
          "execution_count": 9
        }
      ],
      "source": [
        "x                  # we get empty string '' which is zero"
      ],
      "id": "b6c39abc"
    },
    {
      "cell_type": "code",
      "execution_count": null,
      "metadata": {
        "id": "922d9460"
      },
      "outputs": [],
      "source": [
        "x=np.zeros(6,dtype=bool)"
      ],
      "id": "922d9460"
    },
    {
      "cell_type": "code",
      "execution_count": null,
      "metadata": {
        "colab": {
          "base_uri": "https://localhost:8080/"
        },
        "id": "0abbce1c",
        "outputId": "260a21b4-d350-446a-db28-7da65f5b7d43"
      },
      "outputs": [
        {
          "output_type": "execute_result",
          "data": {
            "text/plain": [
              "array([False, False, False, False, False, False])"
            ]
          },
          "metadata": {},
          "execution_count": 11
        }
      ],
      "source": [
        "x               # false represent 0 value"
      ],
      "id": "0abbce1c"
    },
    {
      "cell_type": "markdown",
      "metadata": {
        "id": "3d81a007"
      },
      "source": [
        "# create Empty matrix"
      ],
      "id": "3d81a007"
    },
    {
      "cell_type": "code",
      "execution_count": null,
      "metadata": {
        "colab": {
          "base_uri": "https://localhost:8080/"
        },
        "id": "ebbe4292",
        "outputId": "7b030c0b-a559-4140-cb29-00996074c43d"
      },
      "outputs": [
        {
          "output_type": "execute_result",
          "data": {
            "text/plain": [
              "array([[4.66181840e-310, 1.58101007e-322, 6.77127876e-043,\n",
              "        1.40415966e+165],\n",
              "       [5.64529821e-062, 2.19291210e-076, 3.69784498e-057,\n",
              "        3.91080547e-315]])"
            ]
          },
          "metadata": {},
          "execution_count": 12
        }
      ],
      "source": [
        "np.empty((2,4))             #it consist random or garbage values"
      ],
      "id": "ebbe4292"
    },
    {
      "cell_type": "markdown",
      "metadata": {
        "id": "8ed3ae5e"
      },
      "source": [
        "# Dimensions in array (0-D array)"
      ],
      "id": "8ed3ae5e"
    },
    {
      "cell_type": "code",
      "execution_count": null,
      "metadata": {
        "id": "21e43f96"
      },
      "outputs": [],
      "source": [
        "import numpy as np"
      ],
      "id": "21e43f96"
    },
    {
      "cell_type": "code",
      "execution_count": null,
      "metadata": {
        "id": "58716e17"
      },
      "outputs": [],
      "source": [
        "arr=np.array(45)"
      ],
      "id": "58716e17"
    },
    {
      "cell_type": "code",
      "execution_count": null,
      "metadata": {
        "colab": {
          "base_uri": "https://localhost:8080/"
        },
        "id": "aea80005",
        "outputId": "ab02f4a6-2683-4c03-bc01-698e462b5875"
      },
      "outputs": [
        {
          "output_type": "stream",
          "name": "stdout",
          "text": [
            "45\n"
          ]
        }
      ],
      "source": [
        "print(arr)"
      ],
      "id": "aea80005"
    },
    {
      "cell_type": "markdown",
      "metadata": {
        "id": "970b0dc7"
      },
      "source": [
        "# 1- D array"
      ],
      "id": "970b0dc7"
    },
    {
      "cell_type": "code",
      "execution_count": null,
      "metadata": {
        "id": "ba89810f"
      },
      "outputs": [],
      "source": [
        "import numpy as np"
      ],
      "id": "ba89810f"
    },
    {
      "cell_type": "code",
      "execution_count": null,
      "metadata": {
        "id": "f3b24599"
      },
      "outputs": [],
      "source": [
        "arr_1d=np.array([27,24,100,25])"
      ],
      "id": "f3b24599"
    },
    {
      "cell_type": "code",
      "execution_count": null,
      "metadata": {
        "colab": {
          "base_uri": "https://localhost:8080/"
        },
        "id": "5a149da5",
        "outputId": "fa9a1ac0-d047-4ef8-84fd-75bf2e6dec9b"
      },
      "outputs": [
        {
          "output_type": "stream",
          "name": "stdout",
          "text": [
            "[ 27  24 100  25]\n"
          ]
        }
      ],
      "source": [
        "print(arr_1d)"
      ],
      "id": "5a149da5"
    },
    {
      "cell_type": "markdown",
      "metadata": {
        "id": "a6f64b3c"
      },
      "source": [
        "# 2D array"
      ],
      "id": "a6f64b3c"
    },
    {
      "cell_type": "code",
      "execution_count": null,
      "metadata": {
        "id": "e1af85cb"
      },
      "outputs": [],
      "source": [
        "import numpy as np"
      ],
      "id": "e1af85cb"
    },
    {
      "cell_type": "code",
      "execution_count": null,
      "metadata": {
        "id": "eee398e2"
      },
      "outputs": [],
      "source": [
        "arr_2d=np.array([[100,24],\n",
        "            [78,9]])"
      ],
      "id": "eee398e2"
    },
    {
      "cell_type": "code",
      "execution_count": null,
      "metadata": {
        "colab": {
          "base_uri": "https://localhost:8080/"
        },
        "id": "89cb4ffe",
        "outputId": "b639e3e8-4382-4fd9-b353-013c8a7fb500"
      },
      "outputs": [
        {
          "output_type": "stream",
          "name": "stdout",
          "text": [
            "[[100  24]\n",
            " [ 78   9]]\n"
          ]
        }
      ],
      "source": [
        "print(arr_2d)"
      ],
      "id": "89cb4ffe"
    },
    {
      "cell_type": "markdown",
      "metadata": {
        "id": "8a21ce6e"
      },
      "source": [
        "# 3D array"
      ],
      "id": "8a21ce6e"
    },
    {
      "cell_type": "code",
      "execution_count": null,
      "metadata": {
        "id": "9645e190"
      },
      "outputs": [],
      "source": [
        "import numpy as np"
      ],
      "id": "9645e190"
    },
    {
      "cell_type": "code",
      "execution_count": null,
      "metadata": {
        "id": "9ef4d059"
      },
      "outputs": [],
      "source": [
        "arr_3d=np.array([[[100,24],\n",
        "            [78,9]],[[26,78],[11,10]]])"
      ],
      "id": "9ef4d059"
    },
    {
      "cell_type": "code",
      "execution_count": null,
      "metadata": {
        "colab": {
          "base_uri": "https://localhost:8080/"
        },
        "id": "19d23e1d",
        "outputId": "4ad3894a-876f-462e-c9ea-bad551662362"
      },
      "outputs": [
        {
          "output_type": "stream",
          "name": "stdout",
          "text": [
            "[[[100  24]\n",
            "  [ 78   9]]\n",
            "\n",
            " [[ 26  78]\n",
            "  [ 11  10]]]\n"
          ]
        }
      ],
      "source": [
        "print(arr_3d)"
      ],
      "id": "19d23e1d"
    },
    {
      "cell_type": "code",
      "execution_count": null,
      "metadata": {
        "colab": {
          "base_uri": "https://localhost:8080/"
        },
        "id": "b4f61a6a",
        "outputId": "436c2c97-5458-439f-8611-7b970eb06281"
      },
      "outputs": [
        {
          "output_type": "stream",
          "name": "stdout",
          "text": [
            "3\n",
            "[78  9]\n"
          ]
        }
      ],
      "source": [
        "print(arr_3d.ndim)         #To check dimensions of array\n",
        "print(arr_3d[0,1])          # access elements in 3D array"
      ],
      "id": "b4f61a6a"
    },
    {
      "cell_type": "code",
      "execution_count": null,
      "metadata": {
        "id": "97e3aae2"
      },
      "outputs": [],
      "source": [
        "# Solve???\n",
        "#arr = np.---([56,19,58,11,98])     fill in the blanks ---"
      ],
      "id": "97e3aae2"
    },
    {
      "cell_type": "markdown",
      "metadata": {
        "id": "5adf93f2"
      },
      "source": [
        "# Access array elements"
      ],
      "id": "5adf93f2"
    },
    {
      "cell_type": "code",
      "execution_count": null,
      "metadata": {
        "id": "8a1eb71d"
      },
      "outputs": [],
      "source": [
        "import numpy as np"
      ],
      "id": "8a1eb71d"
    },
    {
      "cell_type": "code",
      "execution_count": null,
      "metadata": {
        "id": "8859dc9b"
      },
      "outputs": [],
      "source": [
        "arr=([19,23,56,89])"
      ],
      "id": "8859dc9b"
    },
    {
      "cell_type": "code",
      "execution_count": null,
      "metadata": {
        "colab": {
          "base_uri": "https://localhost:8080/"
        },
        "id": "eae6d4c2",
        "outputId": "56aff0b3-ebc2-43b3-a845-51fea9c523f6"
      },
      "outputs": [
        {
          "output_type": "stream",
          "name": "stdout",
          "text": [
            "56\n",
            "75\n"
          ]
        }
      ],
      "source": [
        "print(arr[2])                  #acess elements by writting index number\n",
        "print(arr[2]+arr[0])           # concatenate 2 elements in array"
      ],
      "id": "eae6d4c2"
    },
    {
      "cell_type": "code",
      "execution_count": null,
      "metadata": {
        "colab": {
          "base_uri": "https://localhost:8080/"
        },
        "id": "075feda7",
        "outputId": "8ceac13d-9c20-4f6f-927b-e0dbedf1b521"
      },
      "outputs": [
        {
          "output_type": "stream",
          "name": "stdout",
          "text": [
            "75\n"
          ]
        }
      ],
      "source": [
        "print(arr[2]+arr[0]) "
      ],
      "id": "075feda7"
    },
    {
      "cell_type": "code",
      "execution_count": null,
      "metadata": {
        "id": "0ae86ffe"
      },
      "outputs": [],
      "source": [
        "# Solve???\n",
        "# Insert the correct syntax for printing the first item in the array.\n",
        "# arr = np.array([1, 2, 3, 4, 5])\n"
      ],
      "id": "0ae86ffe"
    },
    {
      "cell_type": "markdown",
      "metadata": {
        "id": "33969b46"
      },
      "source": [
        "# access 3D array"
      ],
      "id": "33969b46"
    },
    {
      "cell_type": "markdown",
      "metadata": {
        "id": "b47f1ffa"
      },
      "source": [
        "Ex. Access the third element of the second array of the first array:"
      ],
      "id": "b47f1ffa"
    },
    {
      "cell_type": "code",
      "execution_count": null,
      "metadata": {
        "id": "2d00ad16"
      },
      "outputs": [],
      "source": [
        "import numpy as np"
      ],
      "id": "2d00ad16"
    },
    {
      "cell_type": "code",
      "execution_count": null,
      "metadata": {
        "id": "6d85bd78",
        "scrolled": true
      },
      "outputs": [],
      "source": [
        "a=np.array([[[1, 2, 3], [4, 5, 6]], [[7, 8, 9], [10, 11, 12]]])"
      ],
      "id": "6d85bd78"
    },
    {
      "cell_type": "code",
      "execution_count": null,
      "metadata": {
        "colab": {
          "base_uri": "https://localhost:8080/"
        },
        "id": "b8e38cff",
        "outputId": "d1840b96-9cd4-4bc2-a55a-1ec6e65ec09f"
      },
      "outputs": [
        {
          "output_type": "stream",
          "name": "stdout",
          "text": [
            "6\n"
          ]
        }
      ],
      "source": [
        "print(a[0,1,2])"
      ],
      "id": "b8e38cff"
    },
    {
      "cell_type": "markdown",
      "metadata": {
        "id": "9bcc2ac6"
      },
      "source": [
        "Example Explained\n",
        "arr[0, 1, 2] prints the value 6.\n",
        "\n",
        "And this is why:\n",
        "\n",
        "The first number represents the first dimension, which contains two arrays:\n",
        "[[1, 2, 3], [4, 5, 6]]\n",
        "and:\n",
        "[[7, 8, 9], [10, 11, 12]]\n",
        "Since we selected 0, we are left with the first array:\n",
        "[[1, 2, 3], [4, 5, 6]]\n",
        "\n",
        "The second number represents the second dimension, which also contains two arrays:\n",
        "[1, 2, 3]\n",
        "and:\n",
        "[4, 5, 6]\n",
        "Since we selected 1, we are left with the second array:\n",
        "[4, 5, 6]\n",
        "\n",
        "The third number represents the third dimension, which contains three values:\n",
        "4\n",
        "5\n",
        "6\n",
        "Since we selected 2, we end up with the third value:\n",
        "6"
      ],
      "id": "9bcc2ac6"
    },
    {
      "cell_type": "markdown",
      "metadata": {
        "id": "4ba3a663"
      },
      "source": [
        "# Slicing arrays"
      ],
      "id": "4ba3a663"
    },
    {
      "cell_type": "markdown",
      "metadata": {
        "id": "fe26c48d"
      },
      "source": [
        "Slicing in python means taking elements from one given index to another given index.\n",
        "\n",
        "We pass slice instead of index like this: [start:end].\n",
        "\n",
        "We can also define the step, like this: [start:end:step].\n",
        "\n",
        "If we don't pass start its considered 0\n",
        "\n",
        "If we don't pass end its considered length of array in that dimension\n",
        "\n",
        "If we don't pass step its considered 1\n",
        "\n",
        "Note: The result includes the start index, but excludes the end index."
      ],
      "id": "fe26c48d"
    },
    {
      "cell_type": "code",
      "execution_count": null,
      "metadata": {
        "id": "d356c338"
      },
      "outputs": [],
      "source": [
        "import numpy as np"
      ],
      "id": "d356c338"
    },
    {
      "cell_type": "code",
      "execution_count": null,
      "metadata": {
        "id": "7eb07988",
        "colab": {
          "base_uri": "https://localhost:8080/"
        },
        "outputId": "70e38ee4-e738-4d71-ba49-48af2e3a844d"
      },
      "outputs": [
        {
          "output_type": "execute_result",
          "data": {
            "text/plain": [
              "array([[  1,   2,   3,   4,   5,   6,   7,   8,   9,  10],\n",
              "       [ 11,  12,  13,  14,  15,  16,  17,  18,  19,  20],\n",
              "       [ 21,  22,  23,  24,  25,  26,  27,  28,  29,  30],\n",
              "       [ 31,  32,  33,  34,  35,  36,  37,  38,  39,  40],\n",
              "       [ 41,  42,  43,  44,  45,  46,  47,  48,  49,  50],\n",
              "       [ 51,  52,  53,  54,  55,  56,  57,  58,  59,  60],\n",
              "       [ 61,  62,  63,  64,  65,  66,  67,  68,  69,  70],\n",
              "       [ 71,  72,  73,  74,  75,  76,  77,  78,  79,  80],\n",
              "       [ 81,  82,  83,  84,  85,  86,  87,  88,  89,  90],\n",
              "       [ 91,  92,  93,  94,  95,  96,  97,  98,  99, 100]])"
            ]
          },
          "metadata": {},
          "execution_count": 36
        }
      ],
      "source": [
        "arrx = np.arange(1,101).reshape(10,10)\n",
        "arrx"
      ],
      "id": "7eb07988"
    },
    {
      "cell_type": "code",
      "execution_count": null,
      "metadata": {
        "colab": {
          "base_uri": "https://localhost:8080/"
        },
        "id": "5292fac7",
        "outputId": "c7a55271-bc0e-4413-82db-a46641b604d5"
      },
      "outputs": [
        {
          "output_type": "execute_result",
          "data": {
            "text/plain": [
              "array([ 1,  2,  3,  4,  5,  6,  7,  8,  9, 10])"
            ]
          },
          "metadata": {},
          "execution_count": 37
        }
      ],
      "source": [
        "arrx[0]           #it will slice row 0,all hori values & it is 1D"
      ],
      "id": "5292fac7"
    },
    {
      "cell_type": "code",
      "source": [
        "arrx[: , 1]       #it shows all values from column 1  & it is 1D (all row so write :)"
      ],
      "metadata": {
        "colab": {
          "base_uri": "https://localhost:8080/"
        },
        "id": "HFe8pu7qihPM",
        "outputId": "2a61b56d-af6b-44e8-95b9-47130f6203a1"
      },
      "id": "HFe8pu7qihPM",
      "execution_count": null,
      "outputs": [
        {
          "output_type": "execute_result",
          "data": {
            "text/plain": [
              "array([ 2, 12, 22, 32, 42, 52, 62, 72, 82, 92])"
            ]
          },
          "metadata": {},
          "execution_count": 38
        }
      ]
    },
    {
      "cell_type": "code",
      "source": [
        "arrx[:, 1:3]      # acess colum num 1and 2 and all row so write (:)"
      ],
      "metadata": {
        "colab": {
          "base_uri": "https://localhost:8080/"
        },
        "id": "K4AiajaoihSi",
        "outputId": "78f6a7b3-eabe-40f9-b78f-a3b312cbac2c"
      },
      "id": "K4AiajaoihSi",
      "execution_count": null,
      "outputs": [
        {
          "output_type": "execute_result",
          "data": {
            "text/plain": [
              "array([[ 2,  3],\n",
              "       [12, 13],\n",
              "       [22, 23],\n",
              "       [32, 33],\n",
              "       [42, 43],\n",
              "       [52, 53],\n",
              "       [62, 63],\n",
              "       [72, 73],\n",
              "       [82, 83],\n",
              "       [92, 93]])"
            ]
          },
          "metadata": {},
          "execution_count": 39
        }
      ]
    },
    {
      "cell_type": "code",
      "source": [
        "arrx[0:4, 1:3]             # you can access particular row and column"
      ],
      "metadata": {
        "colab": {
          "base_uri": "https://localhost:8080/"
        },
        "id": "KhvDZZlnihV7",
        "outputId": "329546df-5de6-441c-9c5c-953bd1bac08b"
      },
      "id": "KhvDZZlnihV7",
      "execution_count": null,
      "outputs": [
        {
          "output_type": "execute_result",
          "data": {
            "text/plain": [
              "array([[ 2,  3],\n",
              "       [12, 13],\n",
              "       [22, 23],\n",
              "       [32, 33]])"
            ]
          },
          "metadata": {},
          "execution_count": 40
        }
      ]
    },
    {
      "cell_type": "markdown",
      "metadata": {
        "id": "6c169f52"
      },
      "source": [
        "# STEP\n",
        "Use the step value to determine the step of the slicing. \n",
        "We can also define the step, like this: [start:end:step]."
      ],
      "id": "6c169f52"
    },
    {
      "cell_type": "code",
      "execution_count": null,
      "metadata": {
        "colab": {
          "base_uri": "https://localhost:8080/"
        },
        "id": "4a4e1b84",
        "outputId": "ce4aa4c6-708a-4860-bcc6-b3530d45aca3"
      },
      "outputs": [
        {
          "output_type": "stream",
          "name": "stdout",
          "text": [
            "[2 4]\n"
          ]
        }
      ],
      "source": [
        "import numpy as np\n",
        "\n",
        "arr = np.array([1, 2, 3, 4, 5, 6, 7])\n",
        "\n",
        "print(arr[1:5:2])"
      ],
      "id": "4a4e1b84"
    },
    {
      "cell_type": "markdown",
      "metadata": {
        "id": "73247fd3"
      },
      "source": [
        "# Negative Slicing\n",
        "Example\n",
        "Slice from the index 3 from the end to index 1 from the end:"
      ],
      "id": "73247fd3"
    },
    {
      "cell_type": "code",
      "execution_count": null,
      "metadata": {
        "colab": {
          "base_uri": "https://localhost:8080/"
        },
        "id": "ff8f6914",
        "outputId": "ab14e4b7-d375-414f-9f38-55ec222fef22"
      },
      "outputs": [
        {
          "output_type": "stream",
          "name": "stdout",
          "text": [
            "[4 5]\n"
          ]
        }
      ],
      "source": [
        "import numpy as np\n",
        "\n",
        "arr = np.array([1, 2, 3, 4, 5, 6])\n",
        "\n",
        "print(arr[-3:-1])\n"
      ],
      "id": "ff8f6914"
    },
    {
      "cell_type": "code",
      "execution_count": null,
      "metadata": {
        "id": "rzmO7FmLhw28"
      },
      "outputs": [],
      "source": [
        ""
      ],
      "id": "rzmO7FmLhw28"
    },
    {
      "cell_type": "markdown",
      "metadata": {
        "id": "ZNYvPPE8hyr8"
      },
      "source": [
        "# Numpy functions"
      ],
      "id": "ZNYvPPE8hyr8"
    },
    {
      "cell_type": "code",
      "execution_count": null,
      "metadata": {
        "id": "GbTuiG65hxcM"
      },
      "outputs": [],
      "source": [
        "import numpy as np"
      ],
      "id": "GbTuiG65hxcM"
    },
    {
      "cell_type": "markdown",
      "metadata": {
        "id": "MfzLhtVfiDW3"
      },
      "source": [
        "# **arange**"
      ],
      "id": "MfzLhtVfiDW3"
    },
    {
      "cell_type": "code",
      "execution_count": null,
      "metadata": {
        "colab": {
          "base_uri": "https://localhost:8080/"
        },
        "id": "TX0M3QeGhxkr",
        "outputId": "9055e3b0-78a8-48f8-f3a1-5ab332a64d2a"
      },
      "outputs": [
        {
          "output_type": "stream",
          "name": "stdout",
          "text": [
            "[ 2  3  4  5  6  7  8  9 10 11 12 13 14 15 16 17 18 19]\n"
          ]
        }
      ],
      "source": [
        "# np.arange(start,end,step)\n",
        "a=np.arange(2,20)\n",
        "print(a)"
      ],
      "id": "TX0M3QeGhxkr"
    },
    {
      "cell_type": "code",
      "execution_count": null,
      "metadata": {
        "colab": {
          "base_uri": "https://localhost:8080/"
        },
        "id": "MhUg1_r5iHKd",
        "outputId": "b7996b74-20fe-4230-c27d-a46b74017fb9"
      },
      "outputs": [
        {
          "output_type": "stream",
          "name": "stdout",
          "text": [
            "[ 2  4  6  8 10 12 14 16 18]\n"
          ]
        }
      ],
      "source": [
        "#if we want only even numbers in array, then we need to give step\n",
        "a=np.arange(2,20,2)\n",
        "print(a)"
      ],
      "id": "MhUg1_r5iHKd"
    },
    {
      "cell_type": "markdown",
      "metadata": {
        "id": "u-XYjAOCiINO"
      },
      "source": [
        "# ***Linespace***"
      ],
      "id": "u-XYjAOCiINO"
    },
    {
      "cell_type": "code",
      "execution_count": null,
      "metadata": {
        "colab": {
          "base_uri": "https://localhost:8080/"
        },
        "id": "JqJjBN1GiHPl",
        "outputId": "cac2bab3-69e9-44fc-ac73-366648c08e83"
      },
      "outputs": [
        {
          "output_type": "stream",
          "name": "stdout",
          "text": [
            "[ 1.   2.5  4.   5.5  7.   8.5 10. ]\n"
          ]
        }
      ],
      "source": [
        "# in linespace we are giving a range of values.i.e. how many values we want within that range. here 1 is start 10 is end and within this range we want 7 values\n",
        "x=np.linspace(1,10,7)\n",
        "print(x)"
      ],
      "id": "JqJjBN1GiHPl"
    },
    {
      "cell_type": "markdown",
      "metadata": {
        "id": "Z3ejmjJviQHV"
      },
      "source": [
        "# **ravel**"
      ],
      "id": "Z3ejmjJviQHV"
    },
    {
      "cell_type": "code",
      "execution_count": null,
      "metadata": {
        "colab": {
          "base_uri": "https://localhost:8080/"
        },
        "id": "vUq33HRciHW9",
        "outputId": "f686a90e-ec86-471d-c56e-66aa0b61f2c2"
      },
      "outputs": [
        {
          "output_type": "execute_result",
          "data": {
            "text/plain": [
              "array([1, 2, 3, 4, 5, 6])"
            ]
          },
          "metadata": {},
          "execution_count": 47
        }
      ],
      "source": [
        "#It again convert 2D or 3D into 1D array\n",
        "arr.ravel()"
      ],
      "id": "vUq33HRciHW9"
    },
    {
      "cell_type": "markdown",
      "metadata": {
        "id": "jqDEfy9siLmO"
      },
      "source": [
        "# **reshape**"
      ],
      "id": "jqDEfy9siLmO"
    },
    {
      "cell_type": "code",
      "execution_count": null,
      "metadata": {
        "colab": {
          "base_uri": "https://localhost:8080/"
        },
        "id": "Eo67oBpuiHag",
        "outputId": "5049a452-1622-445e-bcf6-c820ad86061b"
      },
      "outputs": [
        {
          "output_type": "execute_result",
          "data": {
            "text/plain": [
              "array([[1, 2, 3],\n",
              "       [4, 5, 6]])"
            ]
          },
          "metadata": {},
          "execution_count": 48
        }
      ],
      "source": [
        "# here we convert 1 D array in 2D\n",
        "# above arr 1 D array having 6 elements. as we conver into 2D then write (2,3) 2rows and 3 columns\n",
        "arr = np.array([1, 2, 3, 4, 5, 6])\n",
        "arr.reshape(2,3)"
      ],
      "id": "Eo67oBpuiHag"
    },
    {
      "cell_type": "markdown",
      "source": [
        "# **transpose**"
      ],
      "metadata": {
        "id": "v1AlPYCupz7t"
      },
      "id": "v1AlPYCupz7t"
    },
    {
      "cell_type": "code",
      "source": [
        "# it convert rows into columns"
      ],
      "metadata": {
        "id": "1EYaRlaxpqba"
      },
      "id": "1EYaRlaxpqba",
      "execution_count": null,
      "outputs": []
    },
    {
      "cell_type": "code",
      "source": [
        "ar=np.array([[27,24,100,25],[1,5,6,9]])\n",
        "ar.T"
      ],
      "metadata": {
        "colab": {
          "base_uri": "https://localhost:8080/"
        },
        "id": "2dPTo6FQpqoo",
        "outputId": "a03ddc27-1e87-4790-fc52-12759edbf1ac"
      },
      "id": "2dPTo6FQpqoo",
      "execution_count": null,
      "outputs": [
        {
          "output_type": "execute_result",
          "data": {
            "text/plain": [
              "array([[ 27,   1],\n",
              "       [ 24,   5],\n",
              "       [100,   6],\n",
              "       [ 25,   9]])"
            ]
          },
          "metadata": {},
          "execution_count": 50
        }
      ]
    },
    {
      "cell_type": "markdown",
      "metadata": {
        "id": "14b0601d"
      },
      "source": [
        "# **NumPy Array Copy vs View**\n",
        "The main difference between a copy and a view of an array is that the copy is a new array, and the view is just a view of the original array.\n",
        "\n",
        "The copy owns the data and any changes made to the copy will not affect original array, and any changes made to the original array will not affect the copy.\n",
        "\n",
        "The view does not own the data and any changes made to the view will affect the original array, and any changes made to the original array will affect the view."
      ],
      "id": "14b0601d"
    },
    {
      "cell_type": "code",
      "execution_count": null,
      "metadata": {
        "id": "3ca70226"
      },
      "outputs": [],
      "source": [
        "# copy"
      ],
      "id": "3ca70226"
    },
    {
      "cell_type": "code",
      "execution_count": null,
      "metadata": {
        "id": "25cdef68"
      },
      "outputs": [],
      "source": [
        "import numpy as np"
      ],
      "id": "25cdef68"
    },
    {
      "cell_type": "code",
      "execution_count": null,
      "metadata": {
        "id": "1dc691a8"
      },
      "outputs": [],
      "source": [
        "arr=np.array([23,13,56,89])"
      ],
      "id": "1dc691a8"
    },
    {
      "cell_type": "code",
      "execution_count": null,
      "metadata": {
        "id": "d4175fdb"
      },
      "outputs": [],
      "source": [
        "a=arr.copy()"
      ],
      "id": "d4175fdb"
    },
    {
      "cell_type": "code",
      "execution_count": null,
      "metadata": {
        "colab": {
          "base_uri": "https://localhost:8080/"
        },
        "id": "8d6db690",
        "outputId": "9be945d9-4a93-4015-9973-f45dfbc96ceb"
      },
      "outputs": [
        {
          "output_type": "stream",
          "name": "stdout",
          "text": [
            "[23 13 56 89]\n"
          ]
        }
      ],
      "source": [
        "print(a)"
      ],
      "id": "8d6db690"
    },
    {
      "cell_type": "code",
      "execution_count": null,
      "metadata": {
        "id": "1474d5c3"
      },
      "outputs": [],
      "source": [
        "a[0]=45"
      ],
      "id": "1474d5c3"
    },
    {
      "cell_type": "code",
      "execution_count": null,
      "metadata": {
        "colab": {
          "base_uri": "https://localhost:8080/"
        },
        "id": "21bc0dc6",
        "outputId": "ee49e2fc-7bbf-43ae-a35b-59fba61a716d"
      },
      "outputs": [
        {
          "output_type": "stream",
          "name": "stdout",
          "text": [
            "[45 13 56 89]\n",
            "[23 13 56 89]\n"
          ]
        }
      ],
      "source": [
        "print(a)\n",
        "print(arr)"
      ],
      "id": "21bc0dc6"
    },
    {
      "cell_type": "code",
      "execution_count": null,
      "metadata": {
        "id": "b5590cf2"
      },
      "outputs": [],
      "source": [
        "# View"
      ],
      "id": "b5590cf2"
    },
    {
      "cell_type": "code",
      "execution_count": null,
      "metadata": {
        "id": "99ac54cb"
      },
      "outputs": [],
      "source": [
        "import numpy as np"
      ],
      "id": "99ac54cb"
    },
    {
      "cell_type": "code",
      "execution_count": null,
      "metadata": {
        "id": "6c51212e"
      },
      "outputs": [],
      "source": [
        "arr=np.array([23,78,11,89])"
      ],
      "id": "6c51212e"
    },
    {
      "cell_type": "code",
      "execution_count": null,
      "metadata": {
        "id": "25f2ef34"
      },
      "outputs": [],
      "source": [
        "x=arr.view()"
      ],
      "id": "25f2ef34"
    },
    {
      "cell_type": "code",
      "execution_count": null,
      "metadata": {
        "id": "0775c2ed"
      },
      "outputs": [],
      "source": [
        "arr[0]=99"
      ],
      "id": "0775c2ed"
    },
    {
      "cell_type": "code",
      "execution_count": null,
      "metadata": {
        "colab": {
          "base_uri": "https://localhost:8080/"
        },
        "id": "43a7ffeb",
        "outputId": "29ac039d-ff3a-4000-fbf6-16b1012b047f"
      },
      "outputs": [
        {
          "output_type": "stream",
          "name": "stdout",
          "text": [
            "[99 78 11 89]\n"
          ]
        }
      ],
      "source": [
        "print(x)"
      ],
      "id": "43a7ffeb"
    },
    {
      "cell_type": "code",
      "execution_count": null,
      "metadata": {
        "colab": {
          "base_uri": "https://localhost:8080/"
        },
        "id": "73112741",
        "outputId": "5961d591-910e-4ffa-b107-06dd8e55e43a"
      },
      "outputs": [
        {
          "output_type": "stream",
          "name": "stdout",
          "text": [
            "[99 78 11 89]\n"
          ]
        }
      ],
      "source": [
        "print(arr)"
      ],
      "id": "73112741"
    },
    {
      "cell_type": "markdown",
      "metadata": {
        "id": "4fc2a505"
      },
      "source": [
        "# **Joining or concatenate NumPy Arrays**"
      ],
      "id": "4fc2a505"
    },
    {
      "cell_type": "code",
      "execution_count": null,
      "metadata": {
        "colab": {
          "base_uri": "https://localhost:8080/"
        },
        "id": "eb2e4dd9",
        "outputId": "014c98bc-fa36-4231-f425-e00904c73ec6"
      },
      "outputs": [
        {
          "output_type": "stream",
          "name": "stdout",
          "text": [
            "[1 2 3 4 5 6]\n"
          ]
        }
      ],
      "source": [
        "import numpy as np\n",
        "\n",
        "x1 = np.array([1, 2, 3])\n",
        "\n",
        "x2 = np.array([4, 5, 6])\n",
        "\n",
        "arr = np.concatenate((x1, x2))\n",
        "\n",
        "print(arr)"
      ],
      "id": "eb2e4dd9"
    },
    {
      "cell_type": "code",
      "source": [
        "np.vstack((x1,x2))               #arrange array vertically i. e column form"
      ],
      "metadata": {
        "colab": {
          "base_uri": "https://localhost:8080/"
        },
        "id": "KmftJHgwdjF0",
        "outputId": "287f1b00-f68e-4a06-d39d-352347c0355f"
      },
      "id": "KmftJHgwdjF0",
      "execution_count": null,
      "outputs": [
        {
          "output_type": "execute_result",
          "data": {
            "text/plain": [
              "array([[1, 2, 3],\n",
              "       [4, 5, 6]])"
            ]
          },
          "metadata": {},
          "execution_count": 66
        }
      ]
    },
    {
      "cell_type": "code",
      "source": [
        "np.hstack((x1,x2))               #arrange array horizontally i. e row form"
      ],
      "metadata": {
        "colab": {
          "base_uri": "https://localhost:8080/"
        },
        "id": "8zCyX5NBeUhs",
        "outputId": "d1d36f81-f32f-4a5e-a95b-4628bc1d929c"
      },
      "id": "8zCyX5NBeUhs",
      "execution_count": null,
      "outputs": [
        {
          "output_type": "execute_result",
          "data": {
            "text/plain": [
              "array([1, 2, 3, 4, 5, 6])"
            ]
          },
          "metadata": {},
          "execution_count": 67
        }
      ]
    },
    {
      "cell_type": "markdown",
      "metadata": {
        "id": "5a3f92c5"
      },
      "source": [
        "# **Splitting NumPy Arrays**"
      ],
      "id": "5a3f92c5"
    },
    {
      "cell_type": "code",
      "execution_count": null,
      "metadata": {
        "colab": {
          "base_uri": "https://localhost:8080/"
        },
        "id": "e0b9b82e",
        "outputId": "f424eeaa-178f-4ac4-c558-6975bf10c9d4"
      },
      "outputs": [
        {
          "output_type": "stream",
          "name": "stdout",
          "text": [
            "[array([1, 2]), array([3, 4]), array([5, 6])]\n"
          ]
        }
      ],
      "source": [
        "import numpy as np\n",
        "\n",
        "arr = np.array([1, 2, 3, 4, 5, 6])\n",
        "\n",
        "newarr = np.array_split(arr, 3)\n",
        "\n",
        "print(newarr)"
      ],
      "id": "e0b9b82e"
    },
    {
      "cell_type": "markdown",
      "metadata": {
        "id": "109b9eb2"
      },
      "source": [
        "# **Searching Arrays**"
      ],
      "id": "109b9eb2"
    },
    {
      "cell_type": "code",
      "execution_count": null,
      "metadata": {
        "id": "6404d1f7"
      },
      "outputs": [],
      "source": [
        "import numpy as np"
      ],
      "id": "6404d1f7"
    },
    {
      "cell_type": "code",
      "execution_count": null,
      "metadata": {
        "id": "81d7e662"
      },
      "outputs": [],
      "source": [
        "arr=np.array([12,45,67,89,12,13,12,12])"
      ],
      "id": "81d7e662"
    },
    {
      "cell_type": "code",
      "execution_count": null,
      "metadata": {
        "id": "3c711889"
      },
      "outputs": [],
      "source": [
        "x=np.where(arr==12)"
      ],
      "id": "3c711889"
    },
    {
      "cell_type": "code",
      "execution_count": null,
      "metadata": {
        "colab": {
          "base_uri": "https://localhost:8080/"
        },
        "id": "db86f48f",
        "outputId": "b9895635-2067-4b8e-b215-4ee8d9da4a2b"
      },
      "outputs": [
        {
          "output_type": "execute_result",
          "data": {
            "text/plain": [
              "(array([0, 4, 6, 7]),)"
            ]
          },
          "metadata": {},
          "execution_count": 72
        }
      ],
      "source": [
        "x"
      ],
      "id": "db86f48f"
    },
    {
      "cell_type": "code",
      "execution_count": null,
      "metadata": {
        "colab": {
          "base_uri": "https://localhost:8080/"
        },
        "id": "f3cdff5c",
        "outputId": "3a21b9b5-a0de-4627-87b7-c126f6251cb6"
      },
      "outputs": [
        {
          "output_type": "execute_result",
          "data": {
            "text/plain": [
              "1"
            ]
          },
          "metadata": {},
          "execution_count": 73
        }
      ],
      "source": [
        "arr.ndim             # check for array dimension\n"
      ],
      "id": "f3cdff5c"
    },
    {
      "cell_type": "code",
      "execution_count": null,
      "metadata": {
        "colab": {
          "base_uri": "https://localhost:8080/"
        },
        "id": "018716ea",
        "outputId": "6cd7c31a-5a15-442a-9bf3-d0fa9ccad4ae"
      },
      "outputs": [
        {
          "output_type": "execute_result",
          "data": {
            "text/plain": [
              "8"
            ]
          },
          "metadata": {},
          "execution_count": 74
        }
      ],
      "source": [
        "arr.size             # check for array size (it is number of elements or numbers in array.)"
      ],
      "id": "018716ea"
    },
    {
      "cell_type": "code",
      "execution_count": null,
      "metadata": {
        "id": "21c2cc9f"
      },
      "outputs": [],
      "source": [
        "# Check for shape i. e. how many rows and columns"
      ],
      "id": "21c2cc9f"
    },
    {
      "cell_type": "code",
      "execution_count": null,
      "metadata": {
        "id": "83c4186d"
      },
      "outputs": [],
      "source": [
        "arr1=np.array([[100,24],\n",
        "            [78,9]])"
      ],
      "id": "83c4186d"
    },
    {
      "cell_type": "code",
      "execution_count": null,
      "metadata": {
        "colab": {
          "base_uri": "https://localhost:8080/"
        },
        "id": "c888d56b",
        "outputId": "57819cc2-041b-40a6-c22c-344100a7f539"
      },
      "outputs": [
        {
          "output_type": "execute_result",
          "data": {
            "text/plain": [
              "dtype('int64')"
            ]
          },
          "metadata": {},
          "execution_count": 77
        }
      ],
      "source": [
        "arr1.shape\n",
        "arr1.dtype    # Check for data type store in array. its integer of capacity 32 bits"
      ],
      "id": "c888d56b"
    },
    {
      "cell_type": "markdown",
      "source": [
        "# **Mathematical calculation using numpy**"
      ],
      "metadata": {
        "id": "U_pWvbYnI6gZ"
      },
      "id": "U_pWvbYnI6gZ"
    },
    {
      "cell_type": "code",
      "execution_count": null,
      "metadata": {
        "id": "7EKVHXmkz2JO",
        "colab": {
          "base_uri": "https://localhost:8080/"
        },
        "outputId": "87dd940e-4c8b-4dbf-ba47-c9f2b2a68bc6"
      },
      "outputs": [
        {
          "output_type": "stream",
          "name": "stdout",
          "text": [
            "[[1 2 3]\n",
            " [4 5 6]\n",
            " [7 8 9]]\n",
            "[[11 12 13]\n",
            " [14 15 16]\n",
            " [17 18 19]]\n"
          ]
        }
      ],
      "source": [
        "a1=np.arange(1,10).reshape(3,3)\n",
        "a2=np.arange(11,20).reshape(3,3)\n",
        "print(a1)\n",
        "print(a2)"
      ],
      "id": "7EKVHXmkz2JO"
    },
    {
      "cell_type": "code",
      "execution_count": null,
      "metadata": {
        "id": "UXtpxcmyz3HR",
        "colab": {
          "base_uri": "https://localhost:8080/"
        },
        "outputId": "ee599b15-bba9-4a61-8823-d5b9070ba67c"
      },
      "outputs": [
        {
          "output_type": "execute_result",
          "data": {
            "text/plain": [
              "array([[12, 14, 16],\n",
              "       [18, 20, 22],\n",
              "       [24, 26, 28]])"
            ]
          },
          "metadata": {},
          "execution_count": 79
        }
      ],
      "source": [
        "a1+a2             # both array get added"
      ],
      "id": "UXtpxcmyz3HR"
    },
    {
      "cell_type": "code",
      "source": [
        "np.add(a1,a2)     # other way to add array by add function"
      ],
      "metadata": {
        "colab": {
          "base_uri": "https://localhost:8080/"
        },
        "id": "mfOyw9R_KsCc",
        "outputId": "fbe35759-2f95-46dd-c80b-a80eb8403c64"
      },
      "id": "mfOyw9R_KsCc",
      "execution_count": null,
      "outputs": [
        {
          "output_type": "execute_result",
          "data": {
            "text/plain": [
              "array([[12, 14, 16],\n",
              "       [18, 20, 22],\n",
              "       [24, 26, 28]])"
            ]
          },
          "metadata": {},
          "execution_count": 80
        }
      ]
    },
    {
      "cell_type": "code",
      "source": [
        "np.subtract(a1,a2)       # subtraction"
      ],
      "metadata": {
        "colab": {
          "base_uri": "https://localhost:8080/"
        },
        "id": "jVD5JeGTKsRE",
        "outputId": "1368f574-5293-499b-d419-dc8ef23f3a22"
      },
      "id": "jVD5JeGTKsRE",
      "execution_count": null,
      "outputs": [
        {
          "output_type": "execute_result",
          "data": {
            "text/plain": [
              "array([[-10, -10, -10],\n",
              "       [-10, -10, -10],\n",
              "       [-10, -10, -10]])"
            ]
          },
          "metadata": {},
          "execution_count": 81
        }
      ]
    },
    {
      "cell_type": "code",
      "source": [
        "np.divide(a1,a2)          #divide"
      ],
      "metadata": {
        "colab": {
          "base_uri": "https://localhost:8080/"
        },
        "id": "pJ5tSTw-Ksdx",
        "outputId": "27caa253-2828-4f77-ac11-98ec5f7da3df"
      },
      "id": "pJ5tSTw-Ksdx",
      "execution_count": null,
      "outputs": [
        {
          "output_type": "execute_result",
          "data": {
            "text/plain": [
              "array([[0.09090909, 0.16666667, 0.23076923],\n",
              "       [0.28571429, 0.33333333, 0.375     ],\n",
              "       [0.41176471, 0.44444444, 0.47368421]])"
            ]
          },
          "metadata": {},
          "execution_count": 82
        }
      ]
    },
    {
      "cell_type": "code",
      "source": [
        "np.multiply(a1,a2)         # multiply"
      ],
      "metadata": {
        "colab": {
          "base_uri": "https://localhost:8080/"
        },
        "id": "chfXfWSqKs2L",
        "outputId": "1e05946e-78be-4710-e2ef-5e58a2cb6deb"
      },
      "id": "chfXfWSqKs2L",
      "execution_count": null,
      "outputs": [
        {
          "output_type": "execute_result",
          "data": {
            "text/plain": [
              "array([[ 11,  24,  39],\n",
              "       [ 56,  75,  96],\n",
              "       [119, 144, 171]])"
            ]
          },
          "metadata": {},
          "execution_count": 83
        }
      ]
    },
    {
      "cell_type": "markdown",
      "source": [
        "# **find max value in array**"
      ],
      "metadata": {
        "id": "ChIoC0C_WGor"
      },
      "id": "ChIoC0C_WGor"
    },
    {
      "cell_type": "code",
      "source": [
        "a1.max()"
      ],
      "metadata": {
        "colab": {
          "base_uri": "https://localhost:8080/"
        },
        "id": "M7vYwNPtKtDx",
        "outputId": "02960295-52ed-4eda-bb5c-a926bf6c151b"
      },
      "id": "M7vYwNPtKtDx",
      "execution_count": null,
      "outputs": [
        {
          "output_type": "execute_result",
          "data": {
            "text/plain": [
              "9"
            ]
          },
          "metadata": {},
          "execution_count": 84
        }
      ]
    },
    {
      "cell_type": "code",
      "source": [
        "a1.max(axis=0)        #max values of each column"
      ],
      "metadata": {
        "colab": {
          "base_uri": "https://localhost:8080/"
        },
        "id": "QyQGHc6FXasL",
        "outputId": "cdbd4659-ec95-458e-891c-356d59c9fc3b"
      },
      "id": "QyQGHc6FXasL",
      "execution_count": null,
      "outputs": [
        {
          "output_type": "execute_result",
          "data": {
            "text/plain": [
              "array([7, 8, 9])"
            ]
          },
          "metadata": {},
          "execution_count": 85
        }
      ]
    },
    {
      "cell_type": "code",
      "source": [
        "a1.max(axis=1)         # max value of each row"
      ],
      "metadata": {
        "colab": {
          "base_uri": "https://localhost:8080/"
        },
        "id": "a68YCcZMKtUD",
        "outputId": "da8e8651-47df-46d9-ab42-3f84ccdec56f"
      },
      "id": "a68YCcZMKtUD",
      "execution_count": null,
      "outputs": [
        {
          "output_type": "execute_result",
          "data": {
            "text/plain": [
              "array([3, 6, 9])"
            ]
          },
          "metadata": {},
          "execution_count": 86
        }
      ]
    },
    {
      "cell_type": "markdown",
      "source": [
        "# **find min value in array**"
      ],
      "metadata": {
        "id": "0GUBs5kTZtQ8"
      },
      "id": "0GUBs5kTZtQ8"
    },
    {
      "cell_type": "code",
      "source": [
        "a1.min()"
      ],
      "metadata": {
        "colab": {
          "base_uri": "https://localhost:8080/"
        },
        "id": "MrlAKiMOWVNN",
        "outputId": "19a4fde1-9423-4263-c453-69a3e231f788"
      },
      "id": "MrlAKiMOWVNN",
      "execution_count": null,
      "outputs": [
        {
          "output_type": "execute_result",
          "data": {
            "text/plain": [
              "1"
            ]
          },
          "metadata": {},
          "execution_count": 87
        }
      ]
    },
    {
      "cell_type": "code",
      "source": [
        "a1.min(axis=0)"
      ],
      "metadata": {
        "colab": {
          "base_uri": "https://localhost:8080/"
        },
        "id": "fYDaTSt8WVha",
        "outputId": "237308dd-877a-415b-f29d-da5d82caf2f9"
      },
      "id": "fYDaTSt8WVha",
      "execution_count": null,
      "outputs": [
        {
          "output_type": "execute_result",
          "data": {
            "text/plain": [
              "array([1, 2, 3])"
            ]
          },
          "metadata": {},
          "execution_count": 88
        }
      ]
    },
    {
      "cell_type": "code",
      "source": [
        "a1.min(axis=1)"
      ],
      "metadata": {
        "colab": {
          "base_uri": "https://localhost:8080/"
        },
        "id": "F6d2GV6FWV0L",
        "outputId": "b6660995-7226-48e6-de9e-7511b1ec5696"
      },
      "id": "F6d2GV6FWV0L",
      "execution_count": null,
      "outputs": [
        {
          "output_type": "execute_result",
          "data": {
            "text/plain": [
              "array([1, 4, 7])"
            ]
          },
          "metadata": {},
          "execution_count": 89
        }
      ]
    },
    {
      "cell_type": "code",
      "source": [
        "np.sum(a1)             # sum of all elements from array1"
      ],
      "metadata": {
        "colab": {
          "base_uri": "https://localhost:8080/"
        },
        "id": "-fsBxhaRWWGu",
        "outputId": "f21eaaae-048b-4d6c-c31b-598b06254155"
      },
      "id": "-fsBxhaRWWGu",
      "execution_count": null,
      "outputs": [
        {
          "output_type": "execute_result",
          "data": {
            "text/plain": [
              "45"
            ]
          },
          "metadata": {},
          "execution_count": 90
        }
      ]
    },
    {
      "cell_type": "code",
      "source": [
        "np.sum(a1,axis=0)       # sum of each column and axis=0 represent columns"
      ],
      "metadata": {
        "colab": {
          "base_uri": "https://localhost:8080/"
        },
        "id": "lLNJySsjWYNl",
        "outputId": "ee6a4842-f129-4328-a894-6d1866cf684d"
      },
      "id": "lLNJySsjWYNl",
      "execution_count": null,
      "outputs": [
        {
          "output_type": "execute_result",
          "data": {
            "text/plain": [
              "array([12, 15, 18])"
            ]
          },
          "metadata": {},
          "execution_count": 91
        }
      ]
    },
    {
      "cell_type": "code",
      "source": [
        "np.mean(a1)              #avrg of array"
      ],
      "metadata": {
        "colab": {
          "base_uri": "https://localhost:8080/"
        },
        "id": "JUgdb2pvbD_q",
        "outputId": "cfb42912-ca76-4a1e-9274-828ab9b278e2"
      },
      "id": "JUgdb2pvbD_q",
      "execution_count": null,
      "outputs": [
        {
          "output_type": "execute_result",
          "data": {
            "text/plain": [
              "5.0"
            ]
          },
          "metadata": {},
          "execution_count": 92
        }
      ]
    },
    {
      "cell_type": "markdown",
      "source": [
        ""
      ],
      "metadata": {
        "id": "QXwCba2ldbSk"
      },
      "id": "QXwCba2ldbSk"
    },
    {
      "cell_type": "code",
      "source": [
        ""
      ],
      "metadata": {
        "id": "fjahccS9bERh"
      },
      "id": "fjahccS9bERh",
      "execution_count": null,
      "outputs": []
    },
    {
      "cell_type": "markdown",
      "source": [
        "# **Random Sampling**\n",
        "To generate random numbers like OTP"
      ],
      "metadata": {
        "id": "fMnwhdaG7Nbr"
      },
      "id": "fMnwhdaG7Nbr"
    },
    {
      "cell_type": "code",
      "source": [
        "np.sin(180)"
      ],
      "metadata": {
        "id": "i4Z_MP-ibEZ6",
        "colab": {
          "base_uri": "https://localhost:8080/"
        },
        "outputId": "6589ce2c-41fd-4b53-a112-3a2e2f5818d5"
      },
      "id": "i4Z_MP-ibEZ6",
      "execution_count": null,
      "outputs": [
        {
          "output_type": "execute_result",
          "data": {
            "text/plain": [
              "-0.8011526357338304"
            ]
          },
          "metadata": {},
          "execution_count": 3
        }
      ]
    },
    {
      "cell_type": "code",
      "source": [
        "import numpy as np\n",
        "\n",
        "import random"
      ],
      "metadata": {
        "id": "Dws2pFXjbEdi"
      },
      "id": "Dws2pFXjbEdi",
      "execution_count": null,
      "outputs": []
    },
    {
      "cell_type": "code",
      "source": [
        "np.random.random([3,4])          #generate random array"
      ],
      "metadata": {
        "id": "MUiIFbSZbEgd",
        "colab": {
          "base_uri": "https://localhost:8080/"
        },
        "outputId": "d0d97f64-67cc-4d67-8128-e78bfa0c3ccf"
      },
      "id": "MUiIFbSZbEgd",
      "execution_count": null,
      "outputs": [
        {
          "output_type": "execute_result",
          "data": {
            "text/plain": [
              "array([[0.85062631, 0.46245793, 0.3902129 , 0.6222627 ],\n",
              "       [0.39594357, 0.27387356, 0.57450382, 0.40975502],\n",
              "       [0.04639213, 0.72750416, 0.50038599, 0.08221918]])"
            ]
          },
          "metadata": {},
          "execution_count": 27
        }
      ]
    },
    {
      "cell_type": "code",
      "source": [
        "np.random.randint(1,9)             #generate random number between range 1 to 9,include 1 and exclude 9"
      ],
      "metadata": {
        "id": "pg5kCG3sbEjZ",
        "colab": {
          "base_uri": "https://localhost:8080/"
        },
        "outputId": "6567dce6-522c-4606-8893-feafc159d845"
      },
      "id": "pg5kCG3sbEjZ",
      "execution_count": null,
      "outputs": [
        {
          "output_type": "execute_result",
          "data": {
            "text/plain": [
              "7"
            ]
          },
          "metadata": {},
          "execution_count": 19
        }
      ]
    },
    {
      "cell_type": "code",
      "source": [
        "np.random.randint(1,4,(4,4))      #creatre 4x4 matrix of random variable of range between 1 and 4"
      ],
      "metadata": {
        "id": "8qpyG-labEol",
        "colab": {
          "base_uri": "https://localhost:8080/"
        },
        "outputId": "cf50f975-70d7-4316-d493-ebc82079744a"
      },
      "id": "8qpyG-labEol",
      "execution_count": null,
      "outputs": [
        {
          "output_type": "execute_result",
          "data": {
            "text/plain": [
              "array([[3, 1, 3, 1],\n",
              "       [1, 2, 3, 2],\n",
              "       [2, 2, 2, 2],\n",
              "       [2, 1, 3, 2]])"
            ]
          },
          "metadata": {},
          "execution_count": 32
        }
      ]
    },
    {
      "cell_type": "code",
      "source": [
        "x=[3,6,7,9,12,67,89,11]           # choice will select random num from the list"
      ],
      "metadata": {
        "id": "XXJAzFTiTWSK"
      },
      "id": "XXJAzFTiTWSK",
      "execution_count": null,
      "outputs": []
    },
    {
      "cell_type": "code",
      "source": [
        "np.random.choice(x)"
      ],
      "metadata": {
        "colab": {
          "base_uri": "https://localhost:8080/"
        },
        "id": "gEQ4CnQVTWeh",
        "outputId": "67a7572e-331e-41ac-b2c5-6d0990d83c4f"
      },
      "id": "gEQ4CnQVTWeh",
      "execution_count": null,
      "outputs": [
        {
          "output_type": "execute_result",
          "data": {
            "text/plain": [
              "67"
            ]
          },
          "metadata": {},
          "execution_count": 35
        }
      ]
    },
    {
      "cell_type": "code",
      "source": [
        "np.random.shuffle(x)              #shuffle items from list x\n",
        "print(x)"
      ],
      "metadata": {
        "colab": {
          "base_uri": "https://localhost:8080/"
        },
        "id": "wjIAuo7iTWhg",
        "outputId": "23d8b0d3-a727-4b17-d863-9eb88a236325"
      },
      "id": "wjIAuo7iTWhg",
      "execution_count": null,
      "outputs": [
        {
          "output_type": "stream",
          "name": "stdout",
          "text": [
            "[12, 89, 11, 3, 67, 6, 7, 9]\n"
          ]
        }
      ]
    },
    {
      "cell_type": "code",
      "source": [
        ""
      ],
      "metadata": {
        "id": "MgrQgJN4TWkR"
      },
      "id": "MgrQgJN4TWkR",
      "execution_count": null,
      "outputs": []
    },
    {
      "cell_type": "markdown",
      "source": [
        "# **String Operation using NumPy**"
      ],
      "metadata": {
        "id": "dfRvfIugVWhq"
      },
      "id": "dfRvfIugVWhq"
    },
    {
      "cell_type": "markdown",
      "source": [
        "# New Section"
      ],
      "metadata": {
        "id": "tGOzxDVKojQE"
      },
      "id": "tGOzxDVKojQE"
    },
    {
      "cell_type": "markdown",
      "source": [
        "# New Section"
      ],
      "metadata": {
        "id": "DIwQjeG2okUR"
      },
      "id": "DIwQjeG2okUR"
    },
    {
      "cell_type": "code",
      "source": [
        "name1=\"hello Students\"\n",
        "name2=\" WELCOME to the machine learning series\"\n",
        "np.char.add(name1,name2)                          #strings can be add using char.add function"
      ],
      "metadata": {
        "colab": {
          "base_uri": "https://localhost:8080/"
        },
        "id": "hBv0OOuDTWpz",
        "outputId": "9b196abc-5b5e-47c9-9e4f-baa1fc6d4f32"
      },
      "id": "hBv0OOuDTWpz",
      "execution_count": null,
      "outputs": [
        {
          "output_type": "execute_result",
          "data": {
            "text/plain": [
              "array('hello Students Welcome to the machine learning series',\n",
              "      dtype='<U53')"
            ]
          },
          "metadata": {},
          "execution_count": 39
        }
      ]
    },
    {
      "cell_type": "code",
      "source": [
        "np.char.lower(name2)                #lower case"
      ],
      "metadata": {
        "colab": {
          "base_uri": "https://localhost:8080/"
        },
        "id": "yqb79LkMTWsw",
        "outputId": "9c30c82e-881a-4ec0-ce22-35ef96e4e138"
      },
      "id": "yqb79LkMTWsw",
      "execution_count": null,
      "outputs": [
        {
          "output_type": "execute_result",
          "data": {
            "text/plain": [
              "array(' welcome to the machine learning series', dtype='<U39')"
            ]
          },
          "metadata": {},
          "execution_count": 40
        }
      ]
    },
    {
      "cell_type": "code",
      "source": [
        "np.char.upper(name1)"
      ],
      "metadata": {
        "colab": {
          "base_uri": "https://localhost:8080/"
        },
        "id": "okvxcqBnTWwI",
        "outputId": "6ba2bf7b-9c6a-464f-eb3c-f0cbb0404633"
      },
      "id": "okvxcqBnTWwI",
      "execution_count": null,
      "outputs": [
        {
          "output_type": "execute_result",
          "data": {
            "text/plain": [
              "array('HELLO STUDENTS', dtype='<U14')"
            ]
          },
          "metadata": {},
          "execution_count": 41
        }
      ]
    },
    {
      "cell_type": "code",
      "source": [
        "np.char.center(name1,50)          #string appeared in center and 50 is length of string(it can b anything)"
      ],
      "metadata": {
        "colab": {
          "base_uri": "https://localhost:8080/"
        },
        "id": "mPL7d64RTWzc",
        "outputId": "f1529b53-a43e-4029-b2c9-916ce91bf376"
      },
      "id": "mPL7d64RTWzc",
      "execution_count": null,
      "outputs": [
        {
          "output_type": "execute_result",
          "data": {
            "text/plain": [
              "array('                  hello Students                  ', dtype='<U50')"
            ]
          },
          "metadata": {},
          "execution_count": 43
        }
      ]
    },
    {
      "cell_type": "code",
      "source": [
        "np.char.center(name1,90,fillchar=\"*\")           #center filled with *** "
      ],
      "metadata": {
        "colab": {
          "base_uri": "https://localhost:8080/"
        },
        "id": "WKqwhDObWWM4",
        "outputId": "3b4aedb8-83e9-4126-a8e1-50539bb61007"
      },
      "id": "WKqwhDObWWM4",
      "execution_count": null,
      "outputs": [
        {
          "output_type": "execute_result",
          "data": {
            "text/plain": [
              "array('**************************************hello Students**************************************',\n",
              "      dtype='<U90')"
            ]
          },
          "metadata": {},
          "execution_count": 47
        }
      ]
    },
    {
      "cell_type": "code",
      "source": [
        "np.char.split(name2) # strings splitted in the form of list variables"
      ],
      "metadata": {
        "colab": {
          "base_uri": "https://localhost:8080/"
        },
        "id": "bwu0Oo5YWWQI",
        "outputId": "201b38d3-c779-462c-f7ce-39c2db4fca2a"
      },
      "id": "bwu0Oo5YWWQI",
      "execution_count": null,
      "outputs": [
        {
          "output_type": "execute_result",
          "data": {
            "text/plain": [
              "array(list(['Welcome', 'to', 'the', 'machine', 'learning', 'series']),\n",
              "      dtype=object)"
            ]
          },
          "metadata": {},
          "execution_count": 49
        }
      ]
    },
    {
      "cell_type": "code",
      "source": [
        "np.char.splitlines(\"hello\\nhow are you\")"
      ],
      "metadata": {
        "colab": {
          "base_uri": "https://localhost:8080/"
        },
        "id": "MWRKJiJ4WWVX",
        "outputId": "e62fe3d4-77ac-4ec0-a650-5735b35c9485"
      },
      "id": "MWRKJiJ4WWVX",
      "execution_count": null,
      "outputs": [
        {
          "output_type": "execute_result",
          "data": {
            "text/plain": [
              "array(list(['hello', 'how are you']), dtype=object)"
            ]
          },
          "metadata": {},
          "execution_count": 51
        }
      ]
    },
    {
      "cell_type": "code",
      "source": [
        "np.char.replace(name1,\"hello\",\"Good morning\") # replace old string with new one.hello is replace by good morning"
      ],
      "metadata": {
        "colab": {
          "base_uri": "https://localhost:8080/"
        },
        "id": "-SkCAYE5WWYY",
        "outputId": "2cd99f22-1e79-448d-a7af-2bd3b2fa0632"
      },
      "id": "-SkCAYE5WWYY",
      "execution_count": null,
      "outputs": [
        {
          "output_type": "execute_result",
          "data": {
            "text/plain": [
              "array('Good morning Students', dtype='<U21')"
            ]
          },
          "metadata": {},
          "execution_count": 54
        }
      ]
    },
    {
      "cell_type": "code",
      "source": [
        "np.char.equal(name1,name2)"
      ],
      "metadata": {
        "colab": {
          "base_uri": "https://localhost:8080/"
        },
        "id": "xc8ZfNQ0WWbI",
        "outputId": "38aaa688-3060-4519-91b0-e37cd45d489e"
      },
      "id": "xc8ZfNQ0WWbI",
      "execution_count": null,
      "outputs": [
        {
          "output_type": "execute_result",
          "data": {
            "text/plain": [
              "array(False)"
            ]
          },
          "metadata": {},
          "execution_count": 55
        }
      ]
    },
    {
      "cell_type": "code",
      "source": [
        "np.char.count(name1,\"l\") # it counts no of times char present in string"
      ],
      "metadata": {
        "colab": {
          "base_uri": "https://localhost:8080/"
        },
        "id": "ynlbW123WWe_",
        "outputId": "ae8970b5-7970-46a4-cfef-5464bcf50df9"
      },
      "id": "ynlbW123WWe_",
      "execution_count": null,
      "outputs": [
        {
          "output_type": "execute_result",
          "data": {
            "text/plain": [
              "array(2)"
            ]
          },
          "metadata": {},
          "execution_count": 56
        }
      ]
    },
    {
      "cell_type": "code",
      "source": [
        "np.char.find(name1,\"e\")   #find location of character from string "
      ],
      "metadata": {
        "colab": {
          "base_uri": "https://localhost:8080/"
        },
        "id": "Jg2cuT1RWWiB",
        "outputId": "14a76ad8-5293-46b7-85a9-291891153b0c"
      },
      "id": "Jg2cuT1RWWiB",
      "execution_count": null,
      "outputs": [
        {
          "output_type": "execute_result",
          "data": {
            "text/plain": [
              "array(1)"
            ]
          },
          "metadata": {},
          "execution_count": 58
        }
      ]
    },
    {
      "cell_type": "code",
      "source": [
        ""
      ],
      "metadata": {
        "id": "yKwjPc_3WWlc"
      },
      "id": "yKwjPc_3WWlc",
      "execution_count": null,
      "outputs": []
    },
    {
      "cell_type": "code",
      "source": [
        ""
      ],
      "metadata": {
        "id": "hYqmHcx8WWoG"
      },
      "id": "hYqmHcx8WWoG",
      "execution_count": null,
      "outputs": []
    },
    {
      "cell_type": "code",
      "source": [
        ""
      ],
      "metadata": {
        "id": "9JY8kXynWWs7"
      },
      "id": "9JY8kXynWWs7",
      "execution_count": null,
      "outputs": []
    },
    {
      "cell_type": "code",
      "source": [
        ""
      ],
      "metadata": {
        "id": "i3pQO4QLWWwn"
      },
      "id": "i3pQO4QLWWwn",
      "execution_count": null,
      "outputs": []
    },
    {
      "cell_type": "markdown",
      "source": [
        ""
      ],
      "metadata": {
        "id": "C2NxvW_1KmOp"
      },
      "id": "C2NxvW_1KmOp"
    }
  ],
  "metadata": {
    "colab": {
      "collapsed_sections": [
        "14b0601d"
      ],
      "name": "Numpy_Notebook.ipynb",
      "provenance": [],
      "include_colab_link": true
    },
    "kernelspec": {
      "display_name": "Python 3",
      "language": "python",
      "name": "python3"
    },
    "language_info": {
      "codemirror_mode": {
        "name": "ipython",
        "version": 3
      },
      "file_extension": ".py",
      "mimetype": "text/x-python",
      "name": "python",
      "nbconvert_exporter": "python",
      "pygments_lexer": "ipython3",
      "version": "3.8.8"
    }
  },
  "nbformat": 4,
  "nbformat_minor": 5
}